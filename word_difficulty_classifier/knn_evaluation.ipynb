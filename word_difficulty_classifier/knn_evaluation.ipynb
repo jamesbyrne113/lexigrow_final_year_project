{
 "cells": [
  {
   "cell_type": "code",
   "execution_count": 3,
   "metadata": {},
   "outputs": [],
   "source": [
    "import sys\n",
    "import os\n",
    "ROOT_PATH = os.path.dirname(os.getcwd())\n",
    "sys.path.append(ROOT_PATH)\n",
    "\n",
    "from common.model_accuracy import model_accuracy\n",
    "from data_preparation.word_difficulty_dataset_generator import WordDifficultyData\n",
    "from common.wdd_manager import WDDManager\n",
    "from sklearn.neighbors import KNeighborsClassifier\n",
    "import pickle\n",
    "import pathlib\n",
    "import numpy as np\n",
    "import warnings\n",
    "warnings.filterwarnings('ignore')"
   ]
  },
  {
   "cell_type": "markdown",
   "metadata": {},
   "source": [
    "Change paths to correct paths "
   ]
  },
  {
   "cell_type": "code",
   "execution_count": 1,
   "metadata": {},
   "outputs": [],
   "source": [
    "wdds_path = \"../data/wdds\" # Path to folder containing data sets"
   ]
  },
  {
   "cell_type": "markdown",
   "metadata": {},
   "source": [
    "Load all of the 9 data sets"
   ]
  },
  {
   "cell_type": "code",
   "execution_count": 2,
   "metadata": {},
   "outputs": [
    {
     "name": "stdout",
     "output_type": "stream",
     "text": [
      "loading tf_idf, no change...\n",
      "loading tf_idf, min max scaled...\n",
      "loading tf_idf, normalized...\n",
      "loading tf, no change...\n",
      "loading tf, min max scaled...\n",
      "loading tf, normalized...\n",
      "loading word_count, no change...\n",
      "loading word_count, min max scaled...\n",
      "loading word_count, normalized...\n",
      "Done!\n"
     ]
    }
   ],
   "source": [
    "wdd_manager = WDDManager(wdds_path)\n",
    "all_wdds = wdd_manager.get_wdds()"
   ]
  },
  {
   "cell_type": "markdown",
   "metadata": {},
   "source": [
    "Method to determine the mean BAR of the KNN on 5-fold Stratified Cross Validation.\n",
    "For each data set a range of neighbours is evaluated [1, 10] inclusive"
   ]
  },
  {
   "cell_type": "code",
   "execution_count": 22,
   "metadata": {},
   "outputs": [],
   "source": [
    "def kNN_all_wdds(return_results=True):\n",
    "    print(\"kNN Analysis\")\n",
    "\n",
    "    results = {}\n",
    "    for wdd in all_wdds:\n",
    "        print(\"\\t\", wdd.info)\n",
    "\n",
    "        wdd_results = []\n",
    "        for num_neighbors in range (1, 11):\n",
    "            clf = KNeighborsClassifier(weights=\"distance\", n_neighbors=num_neighbors)\n",
    "            accuracy = model_accuracy(clf, wdd)\n",
    "            if return_results:\n",
    "                wdd_results.append(accuracy)\n",
    "            print(\"\\t\\tnum_neighbor:{:d}: {:.2f}\".format(num_neighbors, accuracy/100))\n",
    "        if return_results:\n",
    "            results[wdd.info] = wdd_results"
   ]
  },
  {
   "cell_type": "markdown",
   "metadata": {},
   "source": [
    "Results are grouped by data set and the last value is the mean BAR accuracy for the 5-fold Cross Validation"
   ]
  },
  {
   "cell_type": "code",
   "execution_count": 23,
   "metadata": {},
   "outputs": [
    {
     "name": "stdout",
     "output_type": "stream",
     "text": [
      "kNN Analysis\n",
      "\t tf_idf, no change\n",
      "\t\tnum_neighbor:1: 30.09\n",
      "\t\tnum_neighbor:2: 30.78\n",
      "\t\tnum_neighbor:3: 31.75\n",
      "\t\tnum_neighbor:4: 32.67\n",
      "\t\tnum_neighbor:5: 31.78\n",
      "\t\tnum_neighbor:6: 32.11\n",
      "\t\tnum_neighbor:7: 32.08\n",
      "\t\tnum_neighbor:8: 32.17\n",
      "\t\tnum_neighbor:9: 32.15\n",
      "\t\tnum_neighbor:10: 32.42\n",
      "\t tf_idf, min max scaled\n",
      "\t\tnum_neighbor:1: 28.42\n",
      "\t\tnum_neighbor:2: 31.06\n",
      "\t\tnum_neighbor:3: 31.56\n",
      "\t\tnum_neighbor:4: 31.87\n",
      "\t\tnum_neighbor:5: 32.21\n",
      "\t\tnum_neighbor:6: 32.86\n",
      "\t\tnum_neighbor:7: 32.19\n",
      "\t\tnum_neighbor:8: 32.35\n",
      "\t\tnum_neighbor:9: 32.23\n",
      "\t\tnum_neighbor:10: 32.26\n",
      "\t tf_idf, normalized\n",
      "\t\tnum_neighbor:1: 29.62\n",
      "\t\tnum_neighbor:2: 31.72\n",
      "\t\tnum_neighbor:3: 31.54\n",
      "\t\tnum_neighbor:4: 32.99\n",
      "\t\tnum_neighbor:5: 33.03\n",
      "\t\tnum_neighbor:6: 33.60\n",
      "\t\tnum_neighbor:7: 34.25\n",
      "\t\tnum_neighbor:8: 34.80\n",
      "\t\tnum_neighbor:9: 32.96\n",
      "\t\tnum_neighbor:10: 34.48\n",
      "\t tf, no change\n",
      "\t\tnum_neighbor:1: 35.94\n",
      "\t\tnum_neighbor:2: 35.77\n",
      "\t\tnum_neighbor:3: 37.38\n",
      "\t\tnum_neighbor:4: 38.15\n",
      "\t\tnum_neighbor:5: 38.04\n",
      "\t\tnum_neighbor:6: 38.07\n",
      "\t\tnum_neighbor:7: 38.66\n",
      "\t\tnum_neighbor:8: 38.29\n",
      "\t\tnum_neighbor:9: 39.14\n",
      "\t\tnum_neighbor:10: 39.19\n",
      "\t tf, min max scaled\n",
      "\t\tnum_neighbor:1: 35.88\n",
      "\t\tnum_neighbor:2: 35.73\n",
      "\t\tnum_neighbor:3: 37.31\n",
      "\t\tnum_neighbor:4: 37.87\n",
      "\t\tnum_neighbor:5: 38.17\n",
      "\t\tnum_neighbor:6: 38.18\n",
      "\t\tnum_neighbor:7: 37.88\n",
      "\t\tnum_neighbor:8: 38.19\n",
      "\t\tnum_neighbor:9: 38.28\n",
      "\t\tnum_neighbor:10: 38.58\n",
      "\t tf, normalized\n",
      "\t\tnum_neighbor:1: 30.93\n",
      "\t\tnum_neighbor:2: 30.89\n",
      "\t\tnum_neighbor:3: 30.95\n",
      "\t\tnum_neighbor:4: 31.40\n",
      "\t\tnum_neighbor:5: 30.80\n",
      "\t\tnum_neighbor:6: 31.57\n",
      "\t\tnum_neighbor:7: 31.90\n",
      "\t\tnum_neighbor:8: 31.87\n",
      "\t\tnum_neighbor:9: 31.66\n",
      "\t\tnum_neighbor:10: 31.86\n",
      "\t word_count, no change\n",
      "\t\tnum_neighbor:1: 35.69\n",
      "\t\tnum_neighbor:2: 35.17\n",
      "\t\tnum_neighbor:3: 37.24\n",
      "\t\tnum_neighbor:4: 38.38\n",
      "\t\tnum_neighbor:5: 39.10\n",
      "\t\tnum_neighbor:6: 38.77\n",
      "\t\tnum_neighbor:7: 39.10\n",
      "\t\tnum_neighbor:8: 39.07\n",
      "\t\tnum_neighbor:9: 39.16\n",
      "\t\tnum_neighbor:10: 39.30\n",
      "\t word_count, min max scaled\n",
      "\t\tnum_neighbor:1: 35.85\n",
      "\t\tnum_neighbor:2: 35.73\n",
      "\t\tnum_neighbor:3: 37.32\n",
      "\t\tnum_neighbor:4: 37.89\n",
      "\t\tnum_neighbor:5: 38.20\n",
      "\t\tnum_neighbor:6: 38.20\n",
      "\t\tnum_neighbor:7: 37.88\n",
      "\t\tnum_neighbor:8: 38.19\n",
      "\t\tnum_neighbor:9: 38.27\n",
      "\t\tnum_neighbor:10: 38.58\n",
      "\t word_count, normalized\n",
      "\t\tnum_neighbor:1: 29.93\n",
      "\t\tnum_neighbor:2: 29.92\n",
      "\t\tnum_neighbor:3: 30.20\n",
      "\t\tnum_neighbor:4: 30.39\n",
      "\t\tnum_neighbor:5: 30.64\n",
      "\t\tnum_neighbor:6: 30.89\n",
      "\t\tnum_neighbor:7: 31.25\n",
      "\t\tnum_neighbor:8: 31.63\n",
      "\t\tnum_neighbor:9: 31.05\n",
      "\t\tnum_neighbor:10: 31.68\n"
     ]
    }
   ],
   "source": [
    "results = kNN_all_wdds()"
   ]
  },
  {
   "cell_type": "code",
   "execution_count": null,
   "metadata": {},
   "outputs": [],
   "source": []
  }
 ],
 "metadata": {
  "kernelspec": {
   "display_name": "Playground",
   "language": "python",
   "name": "playground"
  },
  "language_info": {
   "codemirror_mode": {
    "name": "ipython",
    "version": 3
   },
   "file_extension": ".py",
   "mimetype": "text/x-python",
   "name": "python",
   "nbconvert_exporter": "python",
   "pygments_lexer": "ipython3",
   "version": "3.7.3"
  }
 },
 "nbformat": 4,
 "nbformat_minor": 2
}
