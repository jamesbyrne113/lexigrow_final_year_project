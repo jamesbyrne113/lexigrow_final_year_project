{
 "cells": [
  {
   "cell_type": "code",
   "execution_count": 1,
   "metadata": {},
   "outputs": [],
   "source": [
    "import sys\n",
    "import os\n",
    "ROOT_PATH = os.path.dirname(os.getcwd())\n",
    "sys.path.append(ROOT_PATH)\n",
    "\n",
    "from common.model_accuracy import model_accuracy, linear_regression_accuracy\n",
    "from data_preparation.word_difficulty_dataset_generator import WordDifficultyData\n",
    "from common.wdd_manager import WDDManager\n",
    "from sklearn.linear_model import LogisticRegression\n",
    "import pickle\n",
    "import pathlib\n",
    "import numpy as np\n",
    "import warnings\n",
    "warnings.filterwarnings('ignore')"
   ]
  },
  {
   "cell_type": "markdown",
   "metadata": {},
   "source": [
    "Change paths to correct paths"
   ]
  },
  {
   "cell_type": "code",
   "execution_count": 5,
   "metadata": {},
   "outputs": [],
   "source": [
    "wdds_path = \"../data/wdds\" # Path to folder containing data sets"
   ]
  },
  {
   "cell_type": "code",
   "execution_count": null,
   "metadata": {},
   "outputs": [
    {
     "name": "stdout",
     "output_type": "stream",
     "text": [
      "loading tf_idf, no change...\n",
      "loading tf_idf, min max scaled...\n",
      "loading tf_idf, normalized...\n",
      "loading tf, no change...\n",
      "loading tf, min max scaled...\n"
     ]
    }
   ],
   "source": [
    "wdd_manager = WDDManager(wdds_path)\n",
    "all_wdds = wdd_manager.get_wdds()"
   ]
  },
  {
   "cell_type": "markdown",
   "metadata": {},
   "source": [
    "# Logistic Regression: All WDDs"
   ]
  },
  {
   "cell_type": "markdown",
   "metadata": {},
   "source": [
    "Method to test all data sets provided the penalty, either \"l1\" or \"l2\" regression"
   ]
  },
  {
   "cell_type": "code",
   "execution_count": 6,
   "metadata": {},
   "outputs": [],
   "source": [
    "def logistic_regression_all_wdds(penalty):\n",
    "    results = {}\n",
    "\n",
    "    clf = LogisticRegression(penalty=penalty, multi_class=\"multinomial\", solver=\"saga\")\n",
    "    for wdd in all_wdds:\n",
    "        average_cv_score = model_accuracy(clf, wdd)\n",
    "        results[wdd.info] = average_cv_score\n",
    "\n",
    "    print(\"Logistic multinomial regression with {} penalty and saga solver\".format(penalty, ))\n",
    "    for wdd_info, average_cv_scores in results.items():\n",
    "        print(\"\\t{:28s}: {:.2f}\".format(wdd_info, average_cv_scores))"
   ]
  },
  {
   "cell_type": "markdown",
   "metadata": {},
   "source": [
    "the value provided is the mean BAR on 5-fold Stratified Cross Validation for each data set "
   ]
  },
  {
   "cell_type": "code",
   "execution_count": 1,
   "metadata": {},
   "outputs": [
    {
     "name": "stdout",
     "output_type": "stream",
     "text": [
      "Logistic multinomial regression with l1 penalty and saga solver\n",
      "\ttf_idf, no change           : 20.00\n",
      "\ttf_idf, min max scaled      : 30.49\n",
      "\ttf_idf, normalized          : 29.73\n",
      "\ttf, no change               : 20.00\n",
      "\ttf, min max scaled          : 27.30\n",
      "\ttf, normalized              : 38.30\n",
      "\tword_count, no change       : 20.00\n",
      "\tword_count, min max scaled  : 27.30\n",
      "\tword_count, normalized      : 37.94\n"
     ]
    }
   ],
   "source": [
    "logistic_regression_all_wdds(\"l1\")"
   ]
  },
  {
   "cell_type": "code",
   "execution_count": 8,
   "metadata": {},
   "outputs": [
    {
     "name": "stdout",
     "output_type": "stream",
     "text": [
      "Logistic multinomial regression with l2 penalty and saga solver\n",
      "\ttf_idf, no change           : 20.00\n",
      "\ttf_idf, min max scaled      : 27.87\n",
      "\ttf_idf, normalized          : 29.60\n",
      "\ttf, no change               : 20.32\n",
      "\ttf, min max scaled          : 26.81\n",
      "\ttf, normalized              : 38.02\n",
      "\tword_count, no change       : 20.00\n",
      "\tword_count, min max scaled  : 26.81\n",
      "\tword_count, normalized      : 38.00\n"
     ]
    }
   ],
   "source": [
    "logistic_regression_all_wdds(\"l2\")"
   ]
  },
  {
   "cell_type": "code",
   "execution_count": null,
   "metadata": {},
   "outputs": [],
   "source": []
  }
 ],
 "metadata": {
  "kernelspec": {
   "display_name": "Playground",
   "language": "python",
   "name": "playground"
  },
  "language_info": {
   "codemirror_mode": {
    "name": "ipython",
    "version": 3
   },
   "file_extension": ".py",
   "mimetype": "text/x-python",
   "name": "python",
   "nbconvert_exporter": "python",
   "pygments_lexer": "ipython3",
   "version": "3.7.3"
  }
 },
 "nbformat": 4,
 "nbformat_minor": 2
}
