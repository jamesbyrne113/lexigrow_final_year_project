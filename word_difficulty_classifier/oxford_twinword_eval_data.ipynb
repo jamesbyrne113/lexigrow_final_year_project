{
 "cells": [
  {
   "cell_type": "code",
   "execution_count": 1,
   "metadata": {
    "pycharm": {
     "is_executing": false
    }
   },
   "outputs": [],
   "source": [
    "import sys\n",
    "import os\n",
    "ROOT_PATH = os.path.dirname(os.getcwd())\n",
    "sys.path.append(ROOT_PATH)\n",
    "\n",
    "import json\n",
    "from data_preparation.cefr import get_numerical_cefr\n",
    "from data_preparation.word_difficulty_dataset_generator import WordDifficultyData\n",
    "\n",
    "\n",
    "from common.word_difficulty_classifier import WordDifficultyClassifier\n",
    "from common.wdd_manager import WDDManager\n",
    "\n",
    "from joblib import load\n",
    "import math"
   ]
  },
  {
   "cell_type": "markdown",
   "metadata": {},
   "source": [
    "Change directories as required"
   ]
  },
  {
   "cell_type": "code",
   "execution_count": 2,
   "metadata": {},
   "outputs": [],
   "source": [
    "cefr_path = \"../data/word_difficulty_classifier/cefr_min.json\"\n",
    "cefr_twinwords_path = \"../data/word_difficulty_classifier/cefr_words_twinword.json\"\n",
    "non_cefr_twinwords = \"../data/word_difficulty_classifier/cefr_words_twinword.json\"\n",
    "model_path = \"../word_difficulty_classifier/word_difficulty_classifier.joblib\""
   ]
  },
  {
   "cell_type": "markdown",
   "metadata": {},
   "source": [
    "## Functions used to evaluate both data sets"
   ]
  },
  {
   "cell_type": "code",
   "execution_count": 32,
   "metadata": {
    "pycharm": {
     "name": "#%%\n"
    }
   },
   "outputs": [],
   "source": [
    "def compare(score1, score2):\n",
    "    result = score1 - score2\n",
    "    if result > 0:\n",
    "        return 1\n",
    "    elif result < 0:\n",
    "        return -1\n",
    "    else:\n",
    "        return 0\n",
    "\n",
    "def evaulate(cefr, twinword):\n",
    "    \"\"\" \n",
    "        cefr: dictionary of oxford 5000 cefr values for words\n",
    "            key = word, value = cefr level\n",
    "        twinword: dictionary of twinword API score for all Oxford 5000 words\n",
    "            key = word, value = twinword score\n",
    "    \"\"\"\n",
    "    \n",
    "    results = {}\n",
    "    total = 0\n",
    "    correct = 0\n",
    "    \n",
    "    # select two different words from the cefr words that have a different level\n",
    "    for word1, cefr1 in cefr.items():\n",
    "        for word2, cefr2 in cefr.items():\n",
    "            if (word1 == word2 or cefr1 == cefr2):\n",
    "                continue\n",
    "\n",
    "            # get the numerical level for the two CEFR levels\n",
    "            cefr_score1 = get_numerical_cefr(cefr1)\n",
    "            cefr_score2 = get_numerical_cefr(cefr2)\n",
    "            \n",
    "            # Compare the words by their CEFR levels and then by their Twinword Levels\n",
    "            # returns -1 if first word easier than second word, 1 if the first word is harder and 0 if they are equal\n",
    "            try:\n",
    "                cefr_result = compare(cefr_score1, cefr_score2)\n",
    "                twinword_result = compare(twinword[word1], twinword[word2])\n",
    "            except:\n",
    "                continue\n",
    "            \n",
    "            # Check if the comparisons are the same for the twinword and the cefr comparisions\n",
    "            if cefr_result == twinword_result:\n",
    "                correct += 1\n",
    "            results[(word1, word2)] = (cefr_result, twinword_result)\n",
    "            total +=1\n",
    "            \n",
    "    return 100 * correct/total\n"
   ]
  },
  {
   "cell_type": "code",
   "execution_count": 4,
   "metadata": {},
   "outputs": [],
   "source": [
    "with open(cefr_path, \"r\") as f:\n",
    "    cefr = json.load(f)\n",
    "\n",
    "with open(cefr_twinwords_path, \"r\") as f:\n",
    "    cefr_twinwords = json.load(f)\n",
    "\n",
    "with open(cefr_twinwords_path, \"r\") as f:\n",
    "    non_cefr_twinwords = json.load(f)"
   ]
  },
  {
   "cell_type": "markdown",
   "metadata": {},
   "source": [
    "## Load the Model"
   ]
  },
  {
   "cell_type": "code",
   "execution_count": 12,
   "metadata": {
    "pycharm": {
     "name": "#%%\n"
    }
   },
   "outputs": [],
   "source": [
    "model = load(model_path)"
   ]
  },
  {
   "cell_type": "markdown",
   "metadata": {},
   "source": [
    "## Predict the values using the model"
   ]
  },
  {
   "cell_type": "code",
   "execution_count": 15,
   "metadata": {},
   "outputs": [],
   "source": [
    "model_twinword_predictions = {}\n",
    "for word in non_cefr_twinwords.keys():\n",
    "    cefr_value = model.get_cefr_level(word)\n",
    "    if cefr_value:\n",
    "        model_twinword_predictions[word] = cefr_value"
   ]
  },
  {
   "cell_type": "markdown",
   "metadata": {},
   "source": [
    "## Evaluate the Oxford 5000 words"
   ]
  },
  {
   "cell_type": "code",
   "execution_count": 28,
   "metadata": {},
   "outputs": [
    {
     "data": {
      "text/plain": [
       "(64.46051079270961, 4950954)"
      ]
     },
     "execution_count": 28,
     "metadata": {},
     "output_type": "execute_result"
    }
   ],
   "source": [
    "evaulate(model_twinword_predictions, cefr_twinwords)"
   ]
  },
  {
   "cell_type": "markdown",
   "metadata": {},
   "source": [
    "## Evaluate the Model Predicted Words"
   ]
  },
  {
   "cell_type": "code",
   "execution_count": 33,
   "metadata": {},
   "outputs": [
    {
     "data": {
      "text/plain": [
       "64.41479978070892"
      ]
     },
     "execution_count": 33,
     "metadata": {},
     "output_type": "execute_result"
    }
   ],
   "source": [
    "evaulate(cefr, cefr_twinwords)"
   ]
  },
  {
   "cell_type": "code",
   "execution_count": null,
   "metadata": {},
   "outputs": [],
   "source": []
  }
 ],
 "metadata": {
  "kernelspec": {
   "display_name": "Python 3",
   "language": "python",
   "name": "python3"
  },
  "language_info": {
   "codemirror_mode": {
    "name": "ipython",
    "version": 3
   },
   "file_extension": ".py",
   "mimetype": "text/x-python",
   "name": "python",
   "nbconvert_exporter": "python",
   "pygments_lexer": "ipython3",
   "version": "3.7.3"
  },
  "pycharm": {
   "stem_cell": {
    "cell_type": "raw",
    "metadata": {
     "collapsed": false
    },
    "source": []
   }
  }
 },
 "nbformat": 4,
 "nbformat_minor": 1
}
